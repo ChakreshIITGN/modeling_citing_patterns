{
 "cells": [
  {
   "cell_type": "code",
   "execution_count": 1,
   "metadata": {},
   "outputs": [],
   "source": [
    "import networkx as nx \n",
    "import numpy as np\n",
    "import matplotlib.pyplot as plt\n",
    "from collections import defaultdict"
   ]
  },
  {
   "cell_type": "markdown",
   "metadata": {},
   "source": [
    "### Co-authorship\n",
    "\n",
    "Growth process is as follows - at every step a new nodes connects with fixed edges $(m)$ to previously existing nodes using preferential attachment\n",
    "\n",
    "### Citations \n",
    "\n",
    "We calculate the neighbors for a node at 1,2,3 distances in the co-authorship network. Every node makes $c$ citations using the following probabilities\n",
    "\n",
    "$$\\frac{C}{1^\\alpha} \\rightarrow \\text{for immediate neighbors}$$\n",
    "\n",
    "$$\\frac{C}{2^\\alpha} \\rightarrow \\text{for d=2}$$\n",
    "\n",
    "$$\\frac{C}{3^\\alpha} \\rightarrow \\text{for d=3}$$\n",
    "\n",
    "$$\\frac{C}{N-1} \\rightarrow \\text{for rest}$$\n",
    "\n",
    "$C$ is normalization constant and N is the total nodes in the network"
   ]
  },
  {
   "cell_type": "code",
   "execution_count": 2,
   "metadata": {},
   "outputs": [],
   "source": [
    "class preferential_fixedM:\n",
    "    \n",
    "    def __init__(self,N,m):\n",
    "        \n",
    "        self.N = N\n",
    "        self.m = m\n",
    "    \n",
    "    def grow_model(self,):\n",
    "        \n",
    "        G = nx.Graph()\n",
    "        \n",
    "        potential_targets = [0]\n",
    "        G.add_node(0)\n",
    "        \n",
    "        for i in range(1,self.N):\n",
    "            \n",
    "            if i <= self.m:\n",
    "                \n",
    "                degree = len(G.nodes())\n",
    "                \n",
    "            else:\n",
    "                degree = self.m\n",
    "        \n",
    "            targets = np.random.choice(potential_targets,degree)\n",
    "            \n",
    "            potential_targets.extend([i]*degree)\n",
    "            potential_targets.extend(targets)\n",
    "            G.add_edges_from(zip([i]*degree,targets))\n",
    "        \n",
    "        return G\n",
    "    \n",
    "    \n",
    "    def potential_citations(self,G,n):\n",
    "        \n",
    "        d1 = list(nx.neighbors(G,n))\n",
    "        \n",
    "        d2 = [n2 for n1 in d1 for n2 in nx.neighbors(G,n1) if n2!=n and n2 not in d1]\n",
    "        \n",
    "        d3 = [n3 for n2 in d2 for n3 in nx.neighbors(G,n2) if n3 not in d2 and n3 not in d1]\n",
    "        \n",
    "        all_others = list(set(G.nodes()) - set(d1) - set(d2) - set(d3) - set({n}))\n",
    "        \n",
    "        return d1,d2,d3,all_others\n",
    "    \n",
    "    def grow_citation(self,G,alpha,c):\n",
    "        \n",
    "        Gc = nx.DiGraph()\n",
    "        \n",
    "        for source in G.nodes():\n",
    "            \n",
    "            d1,d2,d3,rest = self.potential_citations(G,source)\n",
    "            \n",
    "            all_targets = d1+d2+d3+rest\n",
    "            \n",
    "            p1 = [1/1**alpha]*len(d1)\n",
    "            p2 = [1/2**alpha]*len(d2)\n",
    "            p3 = [1/3**alpha]*len(d3)\n",
    "            p4 = [1/(self.N-1)]*len(rest)\n",
    "            \n",
    "            prob = p1+p2+p3+p4\n",
    "            \n",
    "            prob = np.array(prob)/sum(prob)\n",
    "            \n",
    "            true_targets = np.random.choice(all_targets,c,p=prob)\n",
    "            \n",
    "            Gc.add_edges_from(zip([source]*c,true_targets))\n",
    "        \n",
    "        return Gc,prob"
   ]
  },
  {
   "cell_type": "code",
   "execution_count": 3,
   "metadata": {},
   "outputs": [],
   "source": [
    "Gm = preferential_fixedM(2000,3)\n",
    "Gr = Gm.grow_model()\n",
    "# Gr1 = nx.barabasi_albert_graph(10,1)\n",
    "\n",
    "Gc,prob = Gm.grow_citation(Gr,2,20)"
   ]
  },
  {
   "cell_type": "code",
   "execution_count": 4,
   "metadata": {},
   "outputs": [],
   "source": [
    "# nx.draw(Gc,with_labels=True)"
   ]
  },
  {
   "cell_type": "code",
   "execution_count": 5,
   "metadata": {},
   "outputs": [],
   "source": [
    "Sp = dict(nx.all_pairs_shortest_path_length(Gr))"
   ]
  },
  {
   "cell_type": "code",
   "execution_count": 6,
   "metadata": {},
   "outputs": [],
   "source": [
    "npairs = defaultdict(int)\n",
    "\n",
    "for s in Gr.nodes():\n",
    "    \n",
    "    for t in Gr.nodes():\n",
    "        \n",
    "        npairs[Sp[s][t]]+=1"
   ]
  },
  {
   "cell_type": "code",
   "execution_count": 7,
   "metadata": {},
   "outputs": [],
   "source": [
    "cit_dist = defaultdict(int)\n",
    "\n",
    "for s,t in list(Gc.edges()):\n",
    "    \n",
    "    cit_dist[Sp[s][t]]+=1"
   ]
  },
  {
   "cell_type": "code",
   "execution_count": 8,
   "metadata": {},
   "outputs": [
    {
     "data": {
      "text/plain": [
       "defaultdict(int,\n",
       "            {0: 2000,\n",
       "             1: 11932,\n",
       "             2: 197198,\n",
       "             3: 1346690,\n",
       "             4: 2042992,\n",
       "             5: 396608,\n",
       "             6: 2580})"
      ]
     },
     "execution_count": 8,
     "metadata": {},
     "output_type": "execute_result"
    }
   ],
   "source": [
    "npairs"
   ]
  },
  {
   "cell_type": "code",
   "execution_count": 9,
   "metadata": {},
   "outputs": [],
   "source": [
    "x = [1,2,3,4,5,6]\n",
    "y = [cit_dist[i]/npairs[i] for i in x]"
   ]
  },
  {
   "cell_type": "code",
   "execution_count": 16,
   "metadata": {},
   "outputs": [
    {
     "data": {
      "image/png": "[encoded data removed]",
      "text/plain": [
       "<Figure size 288x288 with 1 Axes>"
      ]
     },
     "metadata": {
      "needs_background": "light"
     },
     "output_type": "display_data"
    }
   ],
   "source": [
    "plt.figure(figsize=(4,4))\n",
    "plt.plot(x,y,'--o')\n",
    "# plt.yscale('log')\n",
    "plt.xlabel('Distance (D)',fontsize=14)\n",
    "plt.ylabel('Cit(D)',fontsize=14)\n",
    "plt.tight_layout()"
   ]
  },
  {
   "cell_type": "code",
   "execution_count": null,
   "metadata": {},
   "outputs": [],
   "source": []
  },
  {
   "cell_type": "code",
   "execution_count": null,
   "metadata": {},
   "outputs": [],
   "source": []
  }
 ],
 "metadata": {
  "kernelspec": {
   "display_name": "Python 3",
   "language": "python",
   "name": "python3"
  },
  "language_info": {
   "codemirror_mode": {
    "name": "ipython",
    "version": 3
   },
   "file_extension": ".py",
   "mimetype": "text/x-python",
   "name": "python",
   "nbconvert_exporter": "python",
   "pygments_lexer": "ipython3",
   "version": "3.8.10"
  }
 },
 "nbformat": 4,
 "nbformat_minor": 4
}
