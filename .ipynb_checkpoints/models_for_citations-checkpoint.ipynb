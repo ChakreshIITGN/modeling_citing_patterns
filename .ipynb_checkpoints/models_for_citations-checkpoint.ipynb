{
 "cells": [
  {
   "cell_type": "code",
   "execution_count": 248,
   "metadata": {},
   "outputs": [],
   "source": [
    "import networkx as nx \n",
    "import numpy as np\n",
    "import matplotlib.pyplot as plt\n",
    "from collections import defaultdict"
   ]
  },
  {
   "cell_type": "code",
   "execution_count": 330,
   "metadata": {},
   "outputs": [],
   "source": [
    "class preferential_fixedM:\n",
    "    \n",
    "    def __init__(self,N,m):\n",
    "        \n",
    "        self.N = N\n",
    "        self.m = m\n",
    "    \n",
    "    def grow_model(self,):\n",
    "        \n",
    "        G = nx.Graph()\n",
    "        \n",
    "        potential_targets = [0]\n",
    "        G.add_node(0)\n",
    "        \n",
    "        for i in range(1,self.N):\n",
    "            \n",
    "            if i <= self.m:\n",
    "                \n",
    "                degree = len(G.nodes())\n",
    "                \n",
    "            else:\n",
    "                degree = self.m\n",
    "        \n",
    "            targets = np.random.choice(potential_targets,degree)\n",
    "            \n",
    "            potential_targets.extend([i]*degree)\n",
    "            potential_targets.extend(targets)\n",
    "            G.add_edges_from(zip([i]*degree,targets))\n",
    "        \n",
    "        return G\n",
    "    \n",
    "    \n",
    "    def potential_citations(self,G,n):\n",
    "        \n",
    "        d1 = list(nx.neighbors(G,n))\n",
    "        \n",
    "        d2 = [n2 for n1 in d1 for n2 in nx.neighbors(G,n1) if n2!=n and n2 not in d1]\n",
    "        \n",
    "        d3 = [n3 for n2 in d2 for n3 in nx.neighbors(G,n2) if n3 not in d2 and n3 not in d1]\n",
    "        \n",
    "        all_others = list(set(G.nodes()) - set(d1) - set(d2) - set(d3) - set({n}))\n",
    "        \n",
    "        return d1,d2,d3,all_others\n",
    "    \n",
    "    def grow_citation(self,G,alpha,c):\n",
    "        \n",
    "        Gc = nx.DiGraph()\n",
    "        \n",
    "        for source in G.nodes():\n",
    "            \n",
    "            d1,d2,d3,rest = self.potential_citations(G,source)\n",
    "            \n",
    "            all_targets = d1+d2+d3+rest\n",
    "            \n",
    "            p1 = [1/1**alpha]*len(d1)\n",
    "            p2 = [1/2**alpha]*len(d2)\n",
    "            p3 = [1/3**alpha]*len(d3)\n",
    "            p4 = 1 - (p1+p2+p3)\n",
    "            \n",
    "            prob = p1+p2+p3+p4\n",
    "            \n",
    "            true_targets = np.random.choice(all_targets,c,p=prob)\n",
    "            \n",
    "            Gc.add_edges_from(zip([source]*c,true_targets))\n",
    "        \n",
    "        return Gc,prob"
   ]
  },
  {
   "cell_type": "code",
   "execution_count": 377,
   "metadata": {},
   "outputs": [],
   "source": [
    "Gm = preferential_fixedM(2000,3)\n",
    "Gr = Gm.grow_model()\n",
    "# Gr1 = nx.barabasi_albert_graph(10,1)\n",
    "\n",
    "Gc,prob = Gm.grow_citation(Gr,2,20)"
   ]
  },
  {
   "cell_type": "code",
   "execution_count": 378,
   "metadata": {},
   "outputs": [],
   "source": [
    "# y = nx.degree_histogram(Gr)\n",
    "# y1 = nx.degree_histogram(Gr1)"
   ]
  },
  {
   "cell_type": "code",
   "execution_count": 379,
   "metadata": {},
   "outputs": [],
   "source": [
    "# plt.loglog(y,'-o')\n",
    "# plt.loglog(y1,'-s')\n",
    "# plt.xscale('log')"
   ]
  },
  {
   "cell_type": "code",
   "execution_count": 380,
   "metadata": {},
   "outputs": [],
   "source": [
    "# plt.plot(y,'-o')\n",
    "# plt.plot(y1,'-s')\n",
    "# # plt.xscale('log')"
   ]
  },
  {
   "cell_type": "code",
   "execution_count": 381,
   "metadata": {},
   "outputs": [],
   "source": [
    "# # Gr.remove_edge(0,3)\n",
    "# # Gr.add_edge(0,6)\n",
    "# # Gr.remove_edge(0,8)\n",
    "# Gr.add_edge(10,11)\n",
    "# d1 = list(nx.neighbors(Gr,0))\n",
    "# print(d1)\n",
    "# d2 = list(set([n for n1 in d1 for n in nx.neighbors(Gr,n1) if n != 0 and n not in d1]))\n",
    "# print(d2)\n",
    "# d3 = list(set([n3 for n2 in d2 for n3 in nx.neighbors(Gr,n2) if n3 not in d2 and n3 not in d1]))\n",
    "# print(d3)"
   ]
  },
  {
   "cell_type": "code",
   "execution_count": 382,
   "metadata": {},
   "outputs": [],
   "source": [
    "# nx.draw(Gc,with_labels=True)"
   ]
  },
  {
   "cell_type": "code",
   "execution_count": 383,
   "metadata": {},
   "outputs": [],
   "source": [
    "Sp = dict(nx.all_pairs_shortest_path_length(Gr))"
   ]
  },
  {
   "cell_type": "code",
   "execution_count": 384,
   "metadata": {},
   "outputs": [],
   "source": [
    "npairs = defaultdict(int)\n",
    "\n",
    "for s in Gr.nodes():\n",
    "    \n",
    "    for t in Gr.nodes():\n",
    "        \n",
    "        npairs[Sp[s][t]]+=1"
   ]
  },
  {
   "cell_type": "code",
   "execution_count": 385,
   "metadata": {},
   "outputs": [],
   "source": [
    "\n",
    "cit_dist = defaultdict(int)\n",
    "\n",
    "for s,t in list(Gc.edges()):\n",
    "    \n",
    "    cit_dist[Sp[s][t]]+=1"
   ]
  },
  {
   "cell_type": "code",
   "execution_count": 388,
   "metadata": {},
   "outputs": [
    {
     "data": {
      "text/plain": [
       "defaultdict(int,\n",
       "            {0: 2000,\n",
       "             1: 11910,\n",
       "             2: 168872,\n",
       "             3: 1184246,\n",
       "             4: 2137002,\n",
       "             5: 492392,\n",
       "             6: 3578,\n",
       "             7: 0})"
      ]
     },
     "execution_count": 388,
     "metadata": {},
     "output_type": "execute_result"
    }
   ],
   "source": [
    "npairs"
   ]
  },
  {
   "cell_type": "code",
   "execution_count": 389,
   "metadata": {},
   "outputs": [],
   "source": [
    "x = [1,2,3,4,5,6]\n",
    "y = [cit_dist[i]/npairs[i] for i in x]\n",
    "\n"
   ]
  },
  {
   "cell_type": "code",
   "execution_count": 392,
   "metadata": {},
   "outputs": [
    {
     "data": {
      "image/png": "[encoded data removed]",
      "text/plain": [
       "<Figure size 432x288 with 1 Axes>"
      ]
     },
     "metadata": {
      "needs_background": "light"
     },
     "output_type": "display_data"
    }
   ],
   "source": [
    "plt.plot(x,y,'--o')\n",
    "plt.yscale('log')"
   ]
  },
  {
   "cell_type": "code",
   "execution_count": 391,
   "metadata": {},
   "outputs": [
    {
     "data": {
      "text/plain": [
       "defaultdict(int, {3: 30964, 2: 5922, 1: 1951, 4: 1, 5: 0, 6: 0, 7: 0})"
      ]
     },
     "execution_count": 391,
     "metadata": {},
     "output_type": "execute_result"
    }
   ],
   "source": [
    "cit_dist"
   ]
  },
  {
   "cell_type": "code",
   "execution_count": null,
   "metadata": {},
   "outputs": [],
   "source": []
  }
 ],
 "metadata": {
  "kernelspec": {
   "display_name": "Python 3",
   "language": "python",
   "name": "python3"
  },
  "language_info": {
   "codemirror_mode": {
    "name": "ipython",
    "version": 3
   },
   "file_extension": ".py",
   "mimetype": "text/x-python",
   "name": "python",
   "nbconvert_exporter": "python",
   "pygments_lexer": "ipython3",
   "version": "3.8.10"
  }
 },
 "nbformat": 4,
 "nbformat_minor": 4
}
